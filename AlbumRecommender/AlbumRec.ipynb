{
 "cells": [
  {
   "cell_type": "markdown",
   "id": "a7a34163",
   "metadata": {},
   "source": [
    "## Introduction\n",
    "\n",
    "This report will describe what Artificial Intelligence (AI) is, the basics of AI as well as the strengths and weaknesses of AI applications. Then the report will lead into what a recommender system is and describe the types of recommender systems, content-based and collaborative systems, also discussing their strengths and weaknesses too. Next the recommender system I created will be discussed and how I implemented the code and features of my own recommender system and how it works.\n"
   ]
  },
  {
   "cell_type": "markdown",
   "id": "ab3c6c7b",
   "metadata": {},
   "source": [
    "## Application of AI\n",
    "\n",
    "Artificial Intelligence uses computer programs or systems to simulate human intelligence to learn and think. The AI application types include speech recognition, natural language processing, expert systems, and machine learning. For AI to work it requires specialized software and hardware that can be used for writing and training algorithms for machine learning.\n",
    "\n",
    "AI systems will work by taking in a large amount of training data to analyze the data for any correlations or patterns, the system will then use any patterns it has found and use them to make predictions for future data.  For example, with an image recognition system the application will learn to identify objects and describe them in an image by reviewing millions of examples from a dataset.\n",
    "\n",
    "Artificial Intelligence applications have many strengths in any kind of professional sector and can change the industry in many directions, they also have limitations.\n"
   ]
  },
  {
   "cell_type": "markdown",
   "id": "db5b08de",
   "metadata": {},
   "source": [
    "### Strengths\n",
    "\n",
    "Humans can make mistakes, known as human error, computers if programmed correctly don’t make mistakes. With AI there is a lower rate of human error that would occur, and there is a higher rate of accuracy. With AI previous information is gathered and is applied to sets of algorithms so the AI can decide an outcome, this can be seen with weather forecasting.\n",
    "\n",
    "Using AI to overcome risky situations that would be dangerous for humans by developing AI robots which would complete the dangerous task for us, like bomb defusing robots, the Mars Rover and can be used for natural or man-made disaster to help warn people about the disaster and evacuate. For example, at the time of the Chernobyl explosion there were no AI robots that could’ve helped to reduce the radiation effects in the early stages by controlling the fire.\n",
    "\n",
    "Unlike humans AI don’t need rest and breaks, because of this AI is available 24x7 for use. An example of a 24x7 applications are helpline centres and as they get many queries and sometimes outside of working hours AI is used instead.\n",
    "\n",
    "Jobs that are consider boring or repetitive, like sending conformation emails, checking documentations for errors can be done by an AI automated system that will complete these tasks, leaving humans free to complete other parts of their job. For example, in banks AI Cognitive Automation is used for verification of documents for a loan, this quickens the process of verifying the document and benefits both the bank owner and customer.\n",
    "\n",
    "Digital Assistants are used in highly advanced organizations to interact with the organization’s users, saving the organization the need for human resources. These Digital Assistants can be found on websites and users can chat to them, some of these chatbots were design in a way which can make it hard for the user to know if they are talking to a Bot or another human. An example of these Digital Assistants are applications like Siri, Google Assistant and so on.\n",
    "\n",
    "When humans make decisions, they analyze the factors both the physical and emotional, while an AI that is used with other technology, an AI powered machine it makes decisions and completes actions faster than humans. Playing chess against an AI machine is an example of this, the hardest difficulty playing against the AI makes it impossible to beat, the AI will use its algorithm to make the best moves in a very short time.\n",
    "\n",
    "AI can be used for new innovations, this can be used to help humans solve many difficult and complex problems, for example with advance AI-based technology doctors can detect early stages of breast cancer in women.\n"
   ]
  },
  {
   "cell_type": "markdown",
   "id": "6b5de8e2",
   "metadata": {},
   "source": [
    "### Limitations\n",
    "\n",
    "AI is a very complex machine, it requires hardware and software updates often to meet the latest requirements, they also need repairing and maintenance. For companies and businesses that don’t possess the knowledge, skill and are unfamiliar with AI will often have to outsource to outside companies. This causes a challenge as the cost for outsourcing is high, furthermore for repairing and ongoing maintenance the cost increases. \n",
    "\n",
    "With the majority of human interfaces being replaced with AI to complete repetitive tasks and AI robots completing hazardous and risky tasks, this can cause a major problem with employment. Many organizations are looking to add AI robots to replace individuals that have the minimum qualifications so the AI can complete the work with more efficiency.\n",
    "\n",
    "The availability of data is a limitation of AI, businesses that wish to create value from AI at scale can run into challenges involving data. Data can often be soiled, meaning isolated from other data, or inconsistent, or of poor and bad quality. For businesses to overcome these challenges they will require from the outset to have a clear strategy for sourcing the data of the AI will require.\n",
    "\n",
    "AI machines are design and programed to perform only the task they are told to complete, if asked to complete task not programed to do the response is usually to crash or the system outputs irrelevant information. As a result of this, AI is lacking the out of the box thinking humans possess. \n",
    "\n",
    "AI machines can work more efficiently than humans but are missing the human connection and emotion, they can also not develop bonds with humans, an essential attribute or team management.\n",
    "\n",
    "Humans are becoming lazy with AI automation systems doing the majority of the humans work, because humans can tend to become addicted to these inventions, this can lead to problems with future generations.\n"
   ]
  },
  {
   "cell_type": "markdown",
   "id": "dd18805d",
   "metadata": {},
   "source": [
    "## Recommender Systems\n",
    "\n",
    "A recommender system is designed to use many factors to recommend things to the user using the system. Products users are most likely be interested in viewing or purchasing are predicted to the user from the system. Some companies that would use a recommender system are Netflix, Amazon, YouTube, and many more applications. There are a few types of recommender systems, a content-based recommender, a collaborative recommender, and a popularity-based recommender."
   ]
  },
  {
   "cell_type": "markdown",
   "id": "e7708cd4",
   "metadata": {},
   "source": [
    "### Content-Based Approach\n",
    "\n",
    "Content-Based recommenders will recommender things to the user of similar content, for example if a user was watching a film on a application the system will check for other similar films of the genre or films that has similar content as the original film. For checking about similar content applications can use many attributes for trying to find the similarities.\n",
    "\n",
    "The way Content-Based systems work is by using the concept of Term Frequency (TF), which is the frequency of a word in a document, and the Inverse Document Frequency (IDF), this is the inverse of the document frequency of a body of documents. Both TF and IDF are used for recommender systems and retrieval systems, they determine if the document, film, song, etc. are of relative importance.\n",
    "\n",
    "The strengths of Content-Based systems are the requirement of user data is very little, to enable the system to allow recommendations to the user an item data is only needed, because user data isn’t depended on when a new user joins the application the system can make recommendations to them as long as there is some user data to build up their profile. The last benefit of Content-Based systems is that it will not suffer from a cold start.\n",
    "\n",
    "Some weaknesses of Content-Based systems are there should be a good volume of item data, to compute the similarity of an object a feature is needed. Also, Content-Based systems are weak at capturing inter-dependencies and complex behaviors, meaning if a user wanted some film recommendations of a film directed by Quentin Tarantino staring Samuel L Jackson, instead of just a film directed by Quentin Tarantino, the system cannot complete this type of task.\n"
   ]
  },
  {
   "cell_type": "markdown",
   "id": "e172b404",
   "metadata": {},
   "source": [
    "### Collaborative Approach\n",
    "\n",
    "The Collaborative Filtering systems, which is considered as one of the very smart recommendations systems, it works by using the similarity of different users and items of which are widely used on e-commerce and online film websites, the system will check similar users likes and will make recommendations. The system is not just restricted to likes for similarity; it will also consider the similarity between different items. The larger information the system has about users and items the more efficient the recommendations will be.\n",
    "\n",
    "The way user-based collaborative recommenders work is the application will find out which users on the system have the same likes and interests in an item, the item purchased is used to compute the similarity between other users who bought the item. Item-based collaborative recommenders work with the system checking items that are similar to other items that were purchased by users, users are not used for computing the similarity, instead the similarity is between different items.\n",
    "\n",
    "The strengths of collaborative recommendation systems are that domain knowledge is not necessary as the system has automatically learned the embeddings, serendipity which is when someone finds something good by accident, this can be used by the system as it helps users to discover new interests as other similar users are interested in the item.\n",
    "\n",
    "Some weaknesses of collaborative recommender systems are for the system to make recommendations to users there needs to be enough users required for a match to be found, this is an example of a cold start, for this weakness to be avoided a hybrid of both collaborative filtering and content-based approaches is made. Sometimes even if an application has many users and many items to be recommended a challenge can arise with users and the rating matrix being sparse, causing a problem to find information about users who rated the same item. Another weakness is the users being recommended items because of problems of sparsity.\n"
   ]
  },
  {
   "cell_type": "markdown",
   "id": "4e820a6c",
   "metadata": {},
   "source": [
    "## My Recommender System – Album Recommender"
   ]
  },
  {
   "cell_type": "markdown",
   "id": "dd22dc3a",
   "metadata": {},
   "source": [
    "### Description\n",
    "My recommender system uses a dataset which contains the top 5000 albums of all time, from that dataset it will get 10 recommendations of an album from the dataset using the rating of the album to make recommendations. The type of recommender system used was a content-based system."
   ]
  },
  {
   "cell_type": "markdown",
   "id": "168c4370",
   "metadata": {},
   "source": [
    "### Implementation"
   ]
  },
  {
   "cell_type": "code",
   "execution_count": 1,
   "id": "13d25cca",
   "metadata": {},
   "outputs": [],
   "source": [
    "#video tutorial used for the first section of the application - https://www.linkedin.com/learning/building-a-recommendation-system-with-python-machine-learning-ai/content-based-recommender-systems?autoAdvance=true&autoSkip=false&autoplay=true&resume=false&u=56744273\n",
    "#Libaries that need to be imported\n",
    "#pandas is used for data manipulation and analysis  \n",
    "import pandas as pd\n",
    "#sklearn is a machine learning libary, it contains regression and clustering algorithms\n",
    "import sklearn"
   ]
  },
  {
   "cell_type": "code",
   "execution_count": 2,
   "id": "957b07b4",
   "metadata": {},
   "outputs": [
    {
     "data": {
      "text/html": [
       "<div>\n",
       "<style scoped>\n",
       "    .dataframe tbody tr th:only-of-type {\n",
       "        vertical-align: middle;\n",
       "    }\n",
       "\n",
       "    .dataframe tbody tr th {\n",
       "        vertical-align: top;\n",
       "    }\n",
       "\n",
       "    .dataframe thead th {\n",
       "        text-align: right;\n",
       "    }\n",
       "</style>\n",
       "<table border=\"1\" class=\"dataframe\">\n",
       "  <thead>\n",
       "    <tr style=\"text-align: right;\">\n",
       "      <th></th>\n",
       "      <th>Ranking</th>\n",
       "      <th>Album</th>\n",
       "      <th>Artist Name</th>\n",
       "      <th>Release Date</th>\n",
       "      <th>Genres</th>\n",
       "      <th>Descriptors</th>\n",
       "      <th>Average Rating</th>\n",
       "      <th>Number of Ratings</th>\n",
       "      <th>Number of Reviews</th>\n",
       "    </tr>\n",
       "  </thead>\n",
       "  <tbody>\n",
       "    <tr>\n",
       "      <th>0</th>\n",
       "      <td>1.0</td>\n",
       "      <td>OK Computer</td>\n",
       "      <td>Radiohead</td>\n",
       "      <td>16 June 1997</td>\n",
       "      <td>Alternative Rock, Art Rock</td>\n",
       "      <td>melancholic, anxious, futuristic, alienation, ...</td>\n",
       "      <td>4.23</td>\n",
       "      <td>70,382</td>\n",
       "      <td>1531</td>\n",
       "    </tr>\n",
       "    <tr>\n",
       "      <th>1</th>\n",
       "      <td>2.0</td>\n",
       "      <td>Wish You Were Here</td>\n",
       "      <td>Pink Floyd</td>\n",
       "      <td>12 September 1975</td>\n",
       "      <td>Progressive Rock, Art Rock</td>\n",
       "      <td>melancholic, atmospheric, progressive, male vo...</td>\n",
       "      <td>4.29</td>\n",
       "      <td>48,662</td>\n",
       "      <td>983</td>\n",
       "    </tr>\n",
       "    <tr>\n",
       "      <th>2</th>\n",
       "      <td>3.0</td>\n",
       "      <td>In the Court of the Crimson King</td>\n",
       "      <td>King Crimson</td>\n",
       "      <td>10 October 1969</td>\n",
       "      <td>Progressive Rock, Art Rock</td>\n",
       "      <td>fantasy, epic, progressive, philosophical, com...</td>\n",
       "      <td>4.30</td>\n",
       "      <td>44,943</td>\n",
       "      <td>870</td>\n",
       "    </tr>\n",
       "    <tr>\n",
       "      <th>3</th>\n",
       "      <td>4.0</td>\n",
       "      <td>Kid A</td>\n",
       "      <td>Radiohead</td>\n",
       "      <td>3 October 2000</td>\n",
       "      <td>Art Rock, Experimental Rock, Electronic</td>\n",
       "      <td>cold, melancholic, futuristic, atmospheric, an...</td>\n",
       "      <td>4.21</td>\n",
       "      <td>58,590</td>\n",
       "      <td>734</td>\n",
       "    </tr>\n",
       "    <tr>\n",
       "      <th>4</th>\n",
       "      <td>5.0</td>\n",
       "      <td>To Pimp a Butterfly</td>\n",
       "      <td>Kendrick Lamar</td>\n",
       "      <td>15 March 2015</td>\n",
       "      <td>Conscious Hip Hop, West Coast Hip Hop, Jazz Rap</td>\n",
       "      <td>political, conscious, poetic, protest, concept...</td>\n",
       "      <td>4.27</td>\n",
       "      <td>44,206</td>\n",
       "      <td>379</td>\n",
       "    </tr>\n",
       "  </tbody>\n",
       "</table>\n",
       "</div>"
      ],
      "text/plain": [
       "   Ranking                             Album     Artist Name  \\\n",
       "0      1.0                       OK Computer       Radiohead   \n",
       "1      2.0                Wish You Were Here      Pink Floyd   \n",
       "2      3.0  In the Court of the Crimson King    King Crimson   \n",
       "3      4.0                             Kid A       Radiohead   \n",
       "4      5.0               To Pimp a Butterfly  Kendrick Lamar   \n",
       "\n",
       "        Release Date                                           Genres  \\\n",
       "0       16 June 1997                       Alternative Rock, Art Rock   \n",
       "1  12 September 1975                       Progressive Rock, Art Rock   \n",
       "2    10 October 1969                       Progressive Rock, Art Rock   \n",
       "3     3 October 2000          Art Rock, Experimental Rock, Electronic   \n",
       "4      15 March 2015  Conscious Hip Hop, West Coast Hip Hop, Jazz Rap   \n",
       "\n",
       "                                         Descriptors  Average Rating  \\\n",
       "0  melancholic, anxious, futuristic, alienation, ...            4.23   \n",
       "1  melancholic, atmospheric, progressive, male vo...            4.29   \n",
       "2  fantasy, epic, progressive, philosophical, com...            4.30   \n",
       "3  cold, melancholic, futuristic, atmospheric, an...            4.21   \n",
       "4  political, conscious, poetic, protest, concept...            4.27   \n",
       "\n",
       "  Number of Ratings  Number of Reviews  \n",
       "0            70,382               1531  \n",
       "1            48,662                983  \n",
       "2            44,943                870  \n",
       "3            58,590                734  \n",
       "4            44,206                379  "
      ]
     },
     "execution_count": 2,
     "metadata": {},
     "output_type": "execute_result"
    }
   ],
   "source": [
    "#Reading the csv file in the folder\n",
    "albums = pd.read_csv('rym_top_5000_all_time.csv')\n",
    "#Creating the columns from the csv file\n",
    "albums.columns = ['Ranking','Album', 'Artist Name', 'Release Date', 'Genres', 'Descriptors', 'Average Rating', 'Number of Ratings', 'Number of Reviews']\n",
    "#Displays the dataset in a table\n",
    "albums.head()\n",
    "#Can show the first 10 albums from the csv file\n",
    "#albums.head(10)"
   ]
  },
  {
   "cell_type": "code",
   "execution_count": 3,
   "id": "c73c2b3d",
   "metadata": {},
   "outputs": [
    {
     "data": {
      "text/plain": [
       "array([['16 June 1997', 'Alternative Rock, Art Rock', 4.23],\n",
       "       ['12 September 1975', 'Progressive Rock, Art Rock', 4.29],\n",
       "       ['10 October 1969', 'Progressive Rock, Art Rock', 4.3],\n",
       "       ['3 October 2000', 'Art Rock, Experimental Rock, Electronic',\n",
       "        4.21],\n",
       "       ['15 March 2015',\n",
       "        'Conscious Hip Hop, West Coast Hip Hop, Jazz Rap', 4.27]],\n",
       "      dtype=object)"
      ]
     },
     "execution_count": 3,
     "metadata": {},
     "output_type": "execute_result"
    }
   ],
   "source": [
    "#Shows the first 5 release dates, genres and average rating values\n",
    "X = albums.loc[:,('Release Date', 'Genres', 'Average Rating')].values\n",
    "X[0:5]"
   ]
  },
  {
   "cell_type": "code",
   "execution_count": 4,
   "id": "70b8628f",
   "metadata": {},
   "outputs": [
    {
     "data": {
      "text/plain": [
       "0                         Alternative Rock, Art Rock\n",
       "1                         Progressive Rock, Art Rock\n",
       "2                         Progressive Rock, Art Rock\n",
       "3            Art Rock, Experimental Rock, Electronic\n",
       "4    Conscious Hip Hop, West Coast Hip Hop, Jazz Rap\n",
       "Name: Genres, dtype: object"
      ]
     },
     "execution_count": 4,
     "metadata": {},
     "output_type": "execute_result"
    }
   ],
   "source": [
    "#Tutorial used for the remaining section - https://www.kaggle.com/ibtesama/getting-started-with-a-movie-recommendation-system\n",
    "#Displays the first 5 from the datasets Genres\n",
    "albums['Genres'].head(5)"
   ]
  },
  {
   "cell_type": "code",
   "execution_count": 5,
   "id": "0523a4c0",
   "metadata": {},
   "outputs": [
    {
     "data": {
      "text/plain": [
       "(5000, 462)"
      ]
     },
     "execution_count": 5,
     "metadata": {},
     "output_type": "execute_result"
    }
   ],
   "source": [
    "#Import TfIdfVectorizer from scikit-learn. TfIdfVectorizer transform text to feature vectors,\n",
    "#they can be used for the input estimator\n",
    "from sklearn.feature_extraction.text import TfidfVectorizer\n",
    "\n",
    "#TF-IDF Vectorizer Object is defined. All the english stop words like 'the', 'a' are removed\n",
    "tfidf = TfidfVectorizer(stop_words='english')\n",
    "\n",
    "#Creating an empty string\n",
    "albums['Genres'] = albums['Genres'].fillna('')\n",
    "\n",
    "#The TF-IDF matrix is created and has the data fitted into it\n",
    "tfidf_matrix = tfidf.fit_transform(albums['Genres'])\n",
    "\n",
    "#The tfidf_matrix is outputed\n",
    "tfidf_matrix.shape"
   ]
  },
  {
   "cell_type": "code",
   "execution_count": 6,
   "id": "4f3c8efa",
   "metadata": {},
   "outputs": [],
   "source": [
    "#linear_kernel is imported. linear_kernel seperates data that is linearly separable using a single line \n",
    "from sklearn.metrics.pairwise import linear_kernel\n",
    "\n",
    "#Compute the cosine similarity matrix. linear_kernel() is used instead of cosine_similarities() becuase it is faster\n",
    "cosine_sim = linear_kernel(tfidf_matrix, tfidf_matrix)"
   ]
  },
  {
   "cell_type": "code",
   "execution_count": 7,
   "id": "ad431ae5",
   "metadata": {},
   "outputs": [],
   "source": [
    "#A reverse map of indices and Albums is created\n",
    "indices = pd.Series(albums.index, index=albums['Album']).drop_duplicates()"
   ]
  },
  {
   "cell_type": "code",
   "execution_count": 8,
   "id": "0bc71692",
   "metadata": {},
   "outputs": [],
   "source": [
    "#Recommends albums from rating\n",
    "#Function created - takes in ablum and outputs most similar albums\n",
    "def get_recommendations(Album, cosine_sim=cosine_sim):\n",
    "    #Gets the index of the album that matches the inputted album\n",
    "    idx = indices[Album]\n",
    "\n",
    "    #Gets the pairwsie similarity ratings of all albums with the inputted album\n",
    "    sim_ratings = list(enumerate(cosine_sim[idx]))\n",
    "\n",
    "    #Albums are sorted based on similar ratings\n",
    "    sim_ratings = sorted(sim_ratings, key=lambda x: x[1], reverse=True)\n",
    "\n",
    "    #Ratings of the top 10 similar albums\n",
    "    sim_ratings = sim_ratings[1:11]\n",
    "\n",
    "    #Gets the album indices\n",
    "    albums_indices = [i[0] for i in sim_ratings]\n",
    "\n",
    "    #Returns the top 10 most similar albums to the inputted album\n",
    "    return albums['Album'].iloc[albums_indices]"
   ]
  },
  {
   "cell_type": "code",
   "execution_count": 9,
   "id": "19587362",
   "metadata": {},
   "outputs": [
    {
     "data": {
      "text/plain": [
       "14                               In Rainbows\n",
       "898     Abattoir Blues / The Lyre of Orpheus\n",
       "1201                       Hail to the Thief\n",
       "2883                            Linea gotica\n",
       "3403                     The Nightly Disease\n",
       "3704                      Origin of Symmetry\n",
       "3724               Epica Etica Etnica Pathos\n",
       "3825                         The Ideal Crash\n",
       "3987                 Des visages des figures\n",
       "4229                 In a Bar, Under the Sea\n",
       "Name: Album, dtype: object"
      ]
     },
     "execution_count": 9,
     "metadata": {},
     "output_type": "execute_result"
    }
   ],
   "source": [
    "get_recommendations('OK Computer')"
   ]
  },
  {
   "cell_type": "code",
   "execution_count": 10,
   "id": "5d58abf2",
   "metadata": {},
   "outputs": [
    {
     "data": {
      "text/plain": [
       "168                    Surfer Rosa\n",
       "2213                     Bossanova\n",
       "2652             Pixies at the BBC\n",
       "3931    Angels and Daemons at Play\n",
       "3968                      Blissard\n",
       "4666                        Звезда\n",
       "2575                 Białe wakacje\n",
       "3636             Timothy's Monster\n",
       "2672                       Lincoln\n",
       "2765                         Flood\n",
       "Name: Album, dtype: object"
      ]
     },
     "execution_count": 10,
     "metadata": {},
     "output_type": "execute_result"
    }
   ],
   "source": [
    "get_recommendations('Doolittle')"
   ]
  },
  {
   "cell_type": "code",
   "execution_count": 11,
   "id": "61a00725",
   "metadata": {},
   "outputs": [
    {
     "data": {
      "text/plain": [
       "174                                   Who's Next\n",
       "209                            Physical Graffiti\n",
       "266                           Houses of the Holy\n",
       "273                                 Machine Head\n",
       "344                          Deep Purple in Rock\n",
       "619                                    Jailbreak\n",
       "942                              Secret Treaties\n",
       "1131                   Black Rose: A Rock Legend\n",
       "1361    Roky Erickson and the Aliens (5 Symbols)\n",
       "1447                          Demons and Wizards\n",
       "Name: Album, dtype: object"
      ]
     },
     "execution_count": 11,
     "metadata": {},
     "output_type": "execute_result"
    }
   ],
   "source": [
    "get_recommendations('Jailbreak')"
   ]
  },
  {
   "cell_type": "code",
   "execution_count": 12,
   "id": "d4f343da",
   "metadata": {
    "scrolled": false
   },
   "outputs": [
    {
     "data": {
      "text/plain": [
       "2332                               Born in the U.S.A.\n",
       "232                                       Born to Run\n",
       "1833    The Wild, the Innocent & the E Street Shuffle\n",
       "2130                               Damn the Torpedoes\n",
       "4709                                  Hearts of Stone\n",
       "3823                                    The '59 Sound\n",
       "374                      Darkness on the Edge of Town\n",
       "1758                                        The River\n",
       "2076                                      Wildflowers\n",
       "30                          The Beatles [White Album]\n",
       "Name: Album, dtype: object"
      ]
     },
     "execution_count": 12,
     "metadata": {},
     "output_type": "execute_result"
    }
   ],
   "source": [
    "get_recommendations('Born in the U.S.A.')"
   ]
  },
  {
   "cell_type": "code",
   "execution_count": 13,
   "id": "f2df3156",
   "metadata": {
    "scrolled": true
   },
   "outputs": [
    {
     "data": {
      "text/plain": [
       "990           Parallel Lines\n",
       "1636            Armed Forces\n",
       "1707               Piano Bar\n",
       "2308             Get Happy!!\n",
       "2888          O passo do Lui\n",
       "3288               Lady Pank\n",
       "3682    Parte de la religión\n",
       "4156       Learning to Crawl\n",
       "4719         East Side Story\n",
       "4880           Synchronicity\n",
       "Name: Album, dtype: object"
      ]
     },
     "execution_count": 13,
     "metadata": {},
     "output_type": "execute_result"
    }
   ],
   "source": [
    "#The recommendations that chagned all the other recommendations\n",
    "get_recommendations('Parallel Lines')"
   ]
  },
  {
   "cell_type": "code",
   "execution_count": 14,
   "id": "cbe678e2",
   "metadata": {},
   "outputs": [
    {
     "data": {
      "image/png": "[encoded data removed]",
      "text/plain": [
       "<IPython.core.display.Image object>"
      ]
     },
     "execution_count": 14,
     "metadata": {},
     "output_type": "execute_result"
    }
   ],
   "source": [
    "#The below image is the orignal recommended list of albums, after trying to get recommendations for the album\n",
    "#\"Parallel Lines\" all the recommendations changed, with some like \"Born in the U.S.A.\" and \"Jailbreak\"\n",
    "#appearing in the recommendation list\n",
    "from IPython.display import Image\n",
    "Image(filename='original_output.png')"
   ]
  },
  {
   "cell_type": "markdown",
   "id": "77928e24",
   "metadata": {},
   "source": [
    "Screencast link:\n",
    "https://iadt-my.sharepoint.com/:v:/g/personal/n00180141_iadt_ie/EV2frRzofHpAhoqf5kmthEUBixVsOZ0WyOyNX_OHAjJKHQ?e=NfyHhe"
   ]
  },
  {
   "cell_type": "markdown",
   "id": "674165b9",
   "metadata": {},
   "source": [
    "## References\n",
    "\n",
    "Burns, E., Laskowski, N. and Tucci, L., n.d. What is Artificial Intelligence (AI)? - AI Definition and How it Works. [online] SearchEnterpriseAI. Available at: <https://searchenterpriseai.techtarget.com/definition/AI-Artificial-Intelligence> [Accessed 30 October 2021].\n",
    "\n",
    "Google Developers. n.d. Collaborative Filtering  |  Recommendation Systems  |  Google Developers. [online] Available at: <https://developers.google.com/machine-learning/recommendation/collaborative/basics> [Accessed 26 October 2021].\n",
    "\n",
    "Das, S., 2015. Beginners Guide to learn about Content Based Recommender Engine. [online] Analytics Vidhya. Available at: <https://www.analyticsvidhya.com/blog/2015/08/beginners-guide-learn-content-based-recommender-systems/> [Accessed 26 October 2021].\n",
    "\n",
    "Dwivedi, R., 2020. What Are Recommendation Systems in Machine Learning? | Analytics Steps. [online] Analyticssteps.com. Available at: <https://www.analyticssteps.com/blogs/what-are-recommendation-systems-machine-learning> [Accessed 26 October 2021].\n",
    "\n",
    "Kaggle.com. 2021. Getting Started with a Movie Recommendation System. [online] Available at: <https://www.kaggle.com/ibtesama/getting-started-with-a-movie-recommendation-system> [Accessed 19 October 2021].\n",
    "\n",
    "Kumar, S., 2019. Advantages and Disadvantages of Artificial Intelligence. [online] Towards Data Science. Available at: <https://towardsdatascience.com/advantages-and-disadvantages-of-artificial-intelligence-182a5ef6588c> [Accessed 25 October 2021].\n",
    "\n",
    "Lillian Pierson, 2021. Building a Recommendation System with Python Machine Learning & AI. [image] Available at: <https://www.linkedin.com/learning/building-a-recommendation-system-with-python-machine-learning-ai/content-based-recommender-systems?autoAdvance=true&autoSkip=false&autoplay=true&resume=false&u=56744273> [Accessed 19 October 2021].\n",
    "\n",
    "Nibusinessinfo.co.uk. n.d. Risks and limitations of artificial intelligence in business | nibusinessinfo.co.uk. [online] Available at: <https://www.nibusinessinfo.co.uk/content/risks-and-limitations-artificial-intelligence-business> [Accessed 25 October 2021].\n"
   ]
  }
 ],
 "metadata": {
  "kernelspec": {
   "display_name": "Python 3",
   "language": "python",
   "name": "python3"
  },
  "language_info": {
   "codemirror_mode": {
    "name": "ipython",
    "version": 3
   },
   "file_extension": ".py",
   "mimetype": "text/x-python",
   "name": "python",
   "nbconvert_exporter": "python",
   "pygments_lexer": "ipython3",
   "version": "3.8.8"
  }
 },
 "nbformat": 4,
 "nbformat_minor": 5
}
